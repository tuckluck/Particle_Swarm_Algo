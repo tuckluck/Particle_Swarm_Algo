{
 "cells": [
  {
   "cell_type": "code",
   "execution_count": 15,
   "id": "9b0d3fa5-a873-4abb-8324-4a0a9bdacaa7",
   "metadata": {},
   "outputs": [
    {
     "name": "stdout",
     "output_type": "stream",
     "text": [
      "Iteration 1/100 - Best Score: 1966.20024\n",
      "Iteration 2/100 - Best Score: 1480.26622\n",
      "Iteration 3/100 - Best Score: 1391.87002\n",
      "Iteration 4/100 - Best Score: 1391.87002\n",
      "Iteration 5/100 - Best Score: 1391.87002\n",
      "Iteration 6/100 - Best Score: 1001.72090\n",
      "Iteration 7/100 - Best Score: 839.53010\n",
      "Iteration 8/100 - Best Score: 839.53010\n",
      "Iteration 9/100 - Best Score: 839.53010\n",
      "Iteration 10/100 - Best Score: 716.93581\n",
      "Iteration 11/100 - Best Score: 697.67394\n",
      "Iteration 12/100 - Best Score: 697.67394\n",
      "Iteration 13/100 - Best Score: 501.44833\n",
      "Iteration 14/100 - Best Score: 491.28905\n",
      "Iteration 15/100 - Best Score: 491.28905\n",
      "Iteration 16/100 - Best Score: 390.08152\n",
      "Iteration 17/100 - Best Score: 390.08152\n",
      "Iteration 18/100 - Best Score: 390.08152\n",
      "Iteration 19/100 - Best Score: 317.85645\n",
      "Iteration 20/100 - Best Score: 217.03745\n",
      "Iteration 21/100 - Best Score: 217.03745\n",
      "Iteration 22/100 - Best Score: 217.03745\n",
      "Iteration 23/100 - Best Score: 217.03745\n",
      "Iteration 24/100 - Best Score: 217.03745\n",
      "Iteration 25/100 - Best Score: 182.64288\n",
      "Iteration 26/100 - Best Score: 133.00507\n",
      "Iteration 27/100 - Best Score: 133.00507\n",
      "Iteration 28/100 - Best Score: 129.92095\n",
      "Iteration 29/100 - Best Score: 125.39044\n",
      "Iteration 30/100 - Best Score: 125.39044\n",
      "Iteration 31/100 - Best Score: 120.15768\n",
      "Iteration 32/100 - Best Score: 118.50061\n",
      "Iteration 33/100 - Best Score: 118.50061\n",
      "Iteration 34/100 - Best Score: 65.43909\n",
      "Iteration 35/100 - Best Score: 61.65208\n",
      "Iteration 36/100 - Best Score: 61.65208\n",
      "Iteration 37/100 - Best Score: 61.65208\n",
      "Iteration 38/100 - Best Score: 51.55675\n",
      "Iteration 39/100 - Best Score: 51.55675\n",
      "Iteration 40/100 - Best Score: 51.55675\n",
      "Iteration 41/100 - Best Score: 51.55675\n",
      "Iteration 42/100 - Best Score: 50.29881\n",
      "Iteration 43/100 - Best Score: 39.15146\n",
      "Iteration 44/100 - Best Score: 39.15146\n",
      "Iteration 45/100 - Best Score: 39.15146\n",
      "Iteration 46/100 - Best Score: 32.78843\n",
      "Iteration 47/100 - Best Score: 30.49871\n",
      "Iteration 48/100 - Best Score: 29.70598\n",
      "Iteration 49/100 - Best Score: 26.47680\n",
      "Iteration 50/100 - Best Score: 26.47680\n",
      "Iteration 51/100 - Best Score: 22.47335\n",
      "Iteration 52/100 - Best Score: 22.47335\n",
      "Iteration 53/100 - Best Score: 20.58498\n",
      "Iteration 54/100 - Best Score: 18.07958\n",
      "Iteration 55/100 - Best Score: 18.07958\n",
      "Iteration 56/100 - Best Score: 18.07958\n",
      "Iteration 57/100 - Best Score: 18.07958\n",
      "Iteration 58/100 - Best Score: 15.21021\n",
      "Iteration 59/100 - Best Score: 12.82972\n",
      "Iteration 60/100 - Best Score: 12.82972\n",
      "Iteration 61/100 - Best Score: 12.82972\n",
      "Iteration 62/100 - Best Score: 12.82972\n",
      "Iteration 63/100 - Best Score: 10.71513\n",
      "Iteration 64/100 - Best Score: 10.71513\n",
      "Iteration 65/100 - Best Score: 9.13976\n",
      "Iteration 66/100 - Best Score: 3.91999\n",
      "Iteration 67/100 - Best Score: 3.91999\n",
      "Iteration 68/100 - Best Score: 3.91999\n",
      "Iteration 69/100 - Best Score: 2.31670\n",
      "Iteration 70/100 - Best Score: 2.31670\n",
      "Iteration 71/100 - Best Score: 1.65003\n",
      "Iteration 72/100 - Best Score: 1.65003\n",
      "Iteration 73/100 - Best Score: 1.65003\n",
      "Iteration 74/100 - Best Score: 1.65003\n",
      "Iteration 75/100 - Best Score: 0.86041\n",
      "Iteration 76/100 - Best Score: -1.61189\n",
      "Iteration 77/100 - Best Score: -1.61189\n",
      "Iteration 78/100 - Best Score: -1.61189\n",
      "Iteration 79/100 - Best Score: -1.61189\n",
      "Iteration 80/100 - Best Score: -1.61189\n",
      "Iteration 81/100 - Best Score: -2.92479\n",
      "Iteration 82/100 - Best Score: -2.92479\n",
      "Iteration 83/100 - Best Score: -2.92479\n",
      "Iteration 84/100 - Best Score: -2.92479\n",
      "Iteration 85/100 - Best Score: -2.92479\n",
      "Iteration 86/100 - Best Score: -2.92479\n",
      "Iteration 87/100 - Best Score: -2.92479\n",
      "Iteration 88/100 - Best Score: -2.92479\n",
      "Iteration 89/100 - Best Score: -2.92479\n",
      "Iteration 90/100 - Best Score: -2.92479\n",
      "Iteration 91/100 - Best Score: -2.92479\n",
      "Iteration 92/100 - Best Score: -2.92479\n",
      "Iteration 93/100 - Best Score: -2.92479\n",
      "Iteration 94/100 - Best Score: -3.11267\n",
      "Iteration 95/100 - Best Score: -3.16142\n",
      "Iteration 96/100 - Best Score: -3.16142\n",
      "Iteration 97/100 - Best Score: -3.16142\n",
      "Iteration 98/100 - Best Score: -3.16142\n",
      "Iteration 99/100 - Best Score: -3.16142\n",
      "Iteration 100/100 - Best Score: -3.16142\n",
      "\n",
      "Best position found: [ 1.10563529  1.00218244 -2.21818192 -0.87150922  0.86327354  2.15341274\n",
      " -0.45771973 -0.67957895  0.11177237  2.16649701]\n",
      "Best score: -3.161422766004396\n"
     ]
    },
    {
     "data": {
      "text/plain": [
       "[<matplotlib.lines.Line2D at 0x1b164d37680>]"
      ]
     },
     "execution_count": 15,
     "metadata": {},
     "output_type": "execute_result"
    },
    {
     "data": {
      "image/png": "[encoded data removed]",
      "text/plain": [
       "<Figure size 640x480 with 1 Axes>"
      ]
     },
     "metadata": {},
     "output_type": "display_data"
    }
   ],
   "source": [
    "import particle_swarm as ps\n",
    "import numpy as np\n",
    "import matplotlib.pyplot as plt\n",
    "\n",
    "def complex_function(x):\n",
    "    return np.sum(np.sin(x)*np.sin(5*x)+.1*x**2)\n",
    "\n",
    "# Example usage\n",
    "if __name__ == \"__main__\":\n",
    "    pso = ps.PSO(func=complex_function, dim=10, bounds=(-100, 100), num_particles=10, max_iter=100)\n",
    "    best_position, best_score, a, b = pso.optimize()\n",
    "    print(f\"\\nBest position found: {best_position}\")\n",
    "    print(f\"Best score: {best_score}\")\n",
    "\n",
    "plt.plot(a,b)\n"
   ]
  },
  {
   "cell_type": "code",
   "execution_count": 16,
   "id": "6e105298-ed81-430d-b845-b9ac3911de2a",
   "metadata": {},
   "outputs": [
    {
     "name": "stdout",
     "output_type": "stream",
     "text": [
      "<class 'numpy.ndarray'>\n"
     ]
    },
    {
     "data": {
      "text/plain": [
       "'\\nfor i in range(100):\\n    # Clear previous output (plot)\\n    clear_output(wait=True)\\n\\n    # Update data\\n    positions += np.random.uniform(-0.01, 0.01, positions.shape)\\n    positions = np.clip(positions, 0, 1)\\n\\n    # Plot\\n    plt.figure(figsize=(5, 5))\\n    plt.scatter(positions[:, 0], positions[:, 1])\\n    plt.xlim(0, 1)\\n    plt.ylim(0, 1)\\n    plt.title(f\"Iteration {i}\")\\n    plt.show()\\n\\n    # Small delay\\n    time.sleep(0.1)\\n'"
      ]
     },
     "execution_count": 16,
     "metadata": {},
     "output_type": "execute_result"
    }
   ],
   "source": [
    "import matplotlib.pyplot as plt\n",
    "import numpy as np\n",
    "from IPython.display import clear_output\n",
    "import time\n",
    "\n",
    "# Initial data\n",
    "num_points = 30\n",
    "positions = np.random.rand(num_points, 2)\n",
    "print(type(positions))\n",
    "'''\n",
    "for i in range(100):\n",
    "    # Clear previous output (plot)\n",
    "    clear_output(wait=True)\n",
    "\n",
    "    # Update data\n",
    "    positions += np.random.uniform(-0.01, 0.01, positions.shape)\n",
    "    positions = np.clip(positions, 0, 1)\n",
    "\n",
    "    # Plot\n",
    "    plt.figure(figsize=(5, 5))\n",
    "    plt.scatter(positions[:, 0], positions[:, 1])\n",
    "    plt.xlim(0, 1)\n",
    "    plt.ylim(0, 1)\n",
    "    plt.title(f\"Iteration {i}\")\n",
    "    plt.show()\n",
    "\n",
    "    # Small delay\n",
    "    time.sleep(0.1)\n",
    "'''"
   ]
  },
  {
   "cell_type": "code",
   "execution_count": 19,
   "id": "fddb657f-aaf4-4710-b31f-7b2ba2e06e47",
   "metadata": {},
   "outputs": [
    {
     "name": "stdout",
     "output_type": "stream",
     "text": [
      "[[0. 0. 0. 0.]\n",
      " [0. 0. 0. 0.]\n",
      " [0. 0. 0. 0.]\n",
      " [0. 0. 0. 0.]]\n",
      "[[0. 0. 0. 0.]\n",
      " [0. 7. 8. 0.]\n",
      " [0. 0. 0. 0.]\n",
      " [0. 0. 0. 0.]]\n"
     ]
    }
   ],
   "source": [
    "import numpy as np\n",
    "\n",
    "matrix = np.zeros((4, 4))\n",
    "print(matrix)\n",
    "\n",
    "# Replace 2nd row (index 1) columns 1 to 3 (exclusive) with [7, 8]\n",
    "matrix[1, 1:3] = [7, 8]\n",
    "print(matrix)\n"
   ]
  },
  {
   "cell_type": "code",
   "execution_count": null,
   "id": "704c9787-db54-40c7-a725-85e084fd8d27",
   "metadata": {},
   "outputs": [],
   "source": []
  },
  {
   "cell_type": "code",
   "execution_count": null,
   "id": "1a3e103f-80c8-4ad8-9c74-4d254f5a1e53",
   "metadata": {},
   "outputs": [],
   "source": []
  }
 ],
 "metadata": {
  "kernelspec": {
   "display_name": "Python 3 (ipykernel)",
   "language": "python",
   "name": "python3"
  },
  "language_info": {
   "codemirror_mode": {
    "name": "ipython",
    "version": 3
   },
   "file_extension": ".py",
   "mimetype": "text/x-python",
   "name": "python",
   "nbconvert_exporter": "python",
   "pygments_lexer": "ipython3",
   "version": "3.12.9"
  }
 },
 "nbformat": 4,
 "nbformat_minor": 5
}
